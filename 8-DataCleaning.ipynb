{
 "cells": [
  {
   "cell_type": "code",
   "execution_count": 1,
   "id": "87d5d8bf",
   "metadata": {},
   "outputs": [],
   "source": [
    "import pandas as pd\n",
    "import numpy as np\n",
    "from datetime import datetime\n",
    "import re\n",
    "from collections import defaultdict"
   ]
  },
  {
   "cell_type": "code",
   "execution_count": 5,
   "id": "62e1dac9",
   "metadata": {},
   "outputs": [
    {
     "name": "stdout",
     "output_type": "stream",
     "text": [
      "✅ Data cleaned and saved as 'netflix_titles_cleaned.csv'\n"
     ]
    }
   ],
   "source": [
    "\n",
    "# Load the dataset\n",
    "df = pd.read_csv('netflix_titles.csv')\n",
    "\n",
    "# 1. Strip whitespace from string columns\n",
    "str_cols = df.select_dtypes(include='object').columns\n",
    "df[str_cols] = df[str_cols].apply(lambda x: x.str.strip())\n",
    "\n",
    "# 2. Convert `date_added` to datetime\n",
    "df['date_added'] = pd.to_datetime(df['date_added'], errors='coerce')\n",
    "\n",
    "# 3. Fill missing durations with 0\n",
    "# 3. Clean and convert durations safely\n",
    "df['duration_minutes'] = pd.to_numeric(df['duration_minutes'], errors='coerce').fillna(0).astype(int)\n",
    "df['duration_seasons'] = pd.to_numeric(df['duration_seasons'], errors='coerce').fillna(0).astype(int)\n",
    "\n",
    "\n",
    "# 4. Convert release_year to int (handle missing safely)\n",
    "df['release_year'] = pd.to_numeric(df['release_year'], errors='coerce').astype('Int64')\n",
    "\n",
    "# 5. Create unified duration column\n",
    "df['content_duration'] = df.apply(\n",
    "    lambda x: x['duration_minutes'] if x['type'] == 'Movie' else x['duration_seasons'],\n",
    "    axis=1\n",
    ")\n",
    "\n",
    "# 6. Create year and month added columns\n",
    "df['year_added'] = df['date_added'].dt.year\n",
    "df['month_added'] = df['date_added'].dt.month\n",
    "\n",
    "# 7. Drop duplicates based on show_id\n",
    "df.drop_duplicates(subset='show_id', inplace=True)\n",
    "df = df.dropna(subset=['show_id'])  # Remove rows with missing show_id\n",
    "# 8. Save cleaned data to a new CSV\n",
    "df.to_csv('netflix_titles_cleaned.csv', index=False)\n",
    "\n",
    "print(\"✅ Data cleaned and saved as 'netflix_titles_cleaned.csv'\")\n"
   ]
  }
 ],
 "metadata": {
  "kernelspec": {
   "display_name": "base",
   "language": "python",
   "name": "python3"
  },
  "language_info": {
   "codemirror_mode": {
    "name": "ipython",
    "version": 3
   },
   "file_extension": ".py",
   "mimetype": "text/x-python",
   "name": "python",
   "nbconvert_exporter": "python",
   "pygments_lexer": "ipython3",
   "version": "3.11.3"
  }
 },
 "nbformat": 4,
 "nbformat_minor": 5
}
